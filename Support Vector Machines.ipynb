{
 "cells": [
  {
   "cell_type": "code",
   "execution_count": null,
   "metadata": {},
   "outputs": [],
   "source": [
    "import codecademylib3_seaborn\n",
    "import matplotlib.pyplot as plt\n",
    "import numpy as np\n",
    "from graph import ax, x_1, y_1, x_2, y_2\n",
    "\n",
    "#Top graph intercept and slope\n",
    "intercept_one = 8\n",
    "slope_one = -2\n",
    "\n",
    "x_vals = np.array(ax.get_xlim())\n",
    "y_vals = intercept_one + slope_one * x_vals\n",
    "plt.plot(x_vals, y_vals, '-')\n",
    "\n",
    "#Bottom Graph\n",
    "ax = plt.subplot(2, 1, 2)\n",
    "plt.title('Good Decision Boundary')\n",
    "ax.set_xlim(0, 10)\n",
    "ax.set_ylim(0, 10)\n",
    "\n",
    "plt.scatter(x_1, y_1, color = \"b\")\n",
    "plt.scatter(x_2, y_2, color = \"r\")\n",
    "\n",
    "#Change the intercept to separate the clusters\n",
    "intercept_two = 15\n",
    "slope_two = -2\n",
    "\n",
    "x_vals = np.array(ax.get_xlim())\n",
    "y_vals = intercept_two + slope_two * x_vals\n",
    "plt.plot(x_vals, y_vals, '-')\n",
    "\n",
    "plt.tight_layout()\n",
    "plt.show()\n"
   ]
  }
 ],
 "metadata": {
  "kernelspec": {
   "display_name": "Python 3",
   "language": "python",
   "name": "python3"
  },
  "language_info": {
   "codemirror_mode": {
    "name": "ipython",
    "version": 3
   },
   "file_extension": ".py",
   "mimetype": "text/x-python",
   "name": "python",
   "nbconvert_exporter": "python",
   "pygments_lexer": "ipython3",
   "version": "3.7.3"
  }
 },
 "nbformat": 4,
 "nbformat_minor": 2
}
